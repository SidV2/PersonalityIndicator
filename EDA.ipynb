#!/usr/bin/env python
# coding: utf-8

# In[2]:


import pandas as pd
import numpy as np


import matplotlib.pyplot as plt
import seaborn as sns



df = pd.read_csv(r'C:\Users\cheta\OneDrive\Desktop\mbti_1.csv') 
# To display the top 5 rows
df.head(5)


# In[3]:


df.isnull().any()


# In[4]:


df.dtypes


# In[5]:


df.shape


# In[6]:


duplicate_rows_df = df[df.duplicated()]
print("number of duplicate rows:" , duplicate_rows_df.shape)


# In[7]:


df.count
df = df.drop_duplicates()
print(df.isnull().sum())
df = df.dropna()


# In[8]:


df.info()


# In[9]:


df.describe(include=['object'])


# In[10]:


types = np.unique(np.array(df['type']))
types


# In[11]:


total = df.groupby(['type']).count()*50
total


# In[15]:


plt.figure(figsize = (16,6))
plt.bar(np.array(total.index), height = total['posts'],color=('pink'))
plt.xlabel('Personality type of the post', size = 20)
plt.ylabel('No. of posts ', size = 20)
plt.title('POSTS FOR EACH PERSONALIY TYPE')


# In[ ]:





# In[ ]:





# In[ ]:





# In[ ]:




